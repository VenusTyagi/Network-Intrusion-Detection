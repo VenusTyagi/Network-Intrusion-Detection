{
 "cells": [
  {
   "cell_type": "code",
   "execution_count": 1,
   "metadata": {},
   "outputs": [],
   "source": [
    "import pandas as pd\n",
    "import numpy as np\n",
    "import seaborn as sns\n",
    "import matplotlib as plt\n",
    "\n",
    "\n",
    "# Flow_IAT_Std(Packets flow inter arrival time)\n",
    "# ACK_Flag_Cnt(host is acknowledging received data)\n",
    "# One can tell the state of a TCP port by sending a SYN packet to the target system and port, and then wait for the response packet;\n",
    "# a SYN/ACK response indicates the port is open, while an RST indicates the port is closed."
   ]
  },
  {
   "cell_type": "code",
   "execution_count": 116,
   "metadata": {},
   "outputs": [],
   "source": [
    "col= ['Src_IP','Src_Port','Dst_IP','Dst_Port','Protocol','Timestamp', 'Flow_Duration','Tot_Fwd_Pkts','Tot_Bwd_Pkts','TotLen_Fwd_Pkts', 'TotLen_Bwd_Pkts', 'Fwd_Pkt_Len_Max',\n",
    "       'Fwd_Pkt_Len_Min', 'Fwd_Pkt_Len_Mean', 'Fwd_Pkt_Len_Std',\n",
    "       'Bwd_Pkt_Len_Max', 'Bwd_Pkt_Len_Min', 'Bwd_Pkt_Len_Mean',\n",
    "       'Bwd_Pkt_Len_Std', 'Flow_Byts/s', 'Flow_Pkts/s', 'Flow_IAT_Mean',\n",
    "       'Flow_IAT_Std', 'Flow_IAT_Max', 'Flow_IAT_Min', 'Fwd_IAT_Tot',\n",
    "       'Fwd_IAT_Mean', 'Bwd_IAT_Mean', 'Fwd_IAT_Max', 'Fwd_IAT_Min',\n",
    "       'Bwd_IAT_Tot', 'Bwd_IAT_Mean.1', 'Bwd_IAT_Std', 'Bwd_IAT_Max',\n",
    "       'Bwd_IAT_Min', 'Bwd_PSH_Flags',\n",
    "       'Bwd_URG_Flags', 'Fwd_Header_Len', 'Bwd_Header_Len', 'Fwd_Pkts/s',\n",
    "       'Bwd_Pkts/s', 'Pkt_Len_Min', 'Pkt_Len_Max', 'Pkt_Len_Mean',\n",
    "       'Pkt_Len_Std', 'Pkt_Len_Var', 'SYN_Flag_Cnt',\n",
    "       'ACK_Flag_Cnt','Down/Up_Ratio', 'Pkt_Size_Avg',\n",
    "       'Fwd_Seg_Size_Avg', 'Bwd_Seg_Size_Avg','Subflow_Fwd_Pkts',\n",
    "       'Subflow_Fwd_Byts', 'Subflow_Bwd_Pkts', 'Subflow_Bwd_Byts',\n",
    "       'Init_Fwd_Win_Byts', 'Init_Bwd_Win_Byts', 'Fwd_Act_Data_Pkts',\n",
    "      'Idle_Mean', 'Idle_Std', 'Idle_Max', 'Idle_Min', 'Label',\n",
    "       'Cat', 'Sub_Cat']\n",
    "# X = botdata[['Flow_Duration', 'Tot_Fwd_Pkts', 'Tot_Bwd_Pkts', 'TotLen_Fwd_Pkts',\n",
    "#        'TotLen_Bwd_Pkts', 'Fwd_Pkt_Len_Max', 'Fwd_Pkt_Len_Min',\n",
    "#        'Fwd_Pkt_Len_Mean', 'Fwd_Pkt_Len_Std', 'Bwd_Pkt_Len_Max',\n",
    "#        'Bwd_Pkt_Len_Min', 'Bwd_Pkt_Len_Mean', 'Bwd_Pkt_Len_Std', 'Flow_Byts/s',\n",
    "#        'Flow_Pkts/s', 'Flow_IAT_Mean', 'Flow_IAT_Std', 'Flow_IAT_Max',\n",
    "#        'Flow_IAT_Min', 'Fwd_IAT_Tot', 'Fwd_IAT_Mean', 'Bwd_IAT_Mean',\n",
    "#        'Fwd_IAT_Max', 'Fwd_IAT_Min', 'Bwd_IAT_Tot', 'Bwd_IAT_Mean.1',\n",
    "#        'Bwd_IAT_Std', 'Bwd_IAT_Max', 'Bwd_IAT_Min', 'Bwd_PSH_Flags',\n",
    "#        'Bwd_URG_Flags', 'Fwd_Header_Len', 'Bwd_Header_Len', 'Fwd_Pkts/s',\n",
    "#        'Bwd_Pkts/s', 'Pkt_Len_Min', 'Pkt_Len_Max', 'Pkt_Len_Mean',\n",
    "#        'Pkt_Len_Std', 'Pkt_Len_Var', 'SYN_Flag_Cnt', 'ACK_Flag_Cnt',\n",
    "#        'Down/Up_Ratio', 'Pkt_Size_Avg', 'Fwd_Seg_Size_Avg', 'Bwd_Seg_Size_Avg',\n",
    "#        'Subflow_Fwd_Pkts', 'Subflow_Fwd_Byts', 'Subflow_Bwd_Pkts',\n",
    "#        'Subflow_Bwd_Byts', 'Init_Fwd_Win_Byts', 'Init_Bwd_Win_Byts',\n",
    "#        'Fwd_Act_Data_Pkts', 'Idle_Mean', 'Idle_Std', 'Idle_Max', 'Idle_Min',\n",
    "#        'Label']]\n",
    "# y = botdata['Cat']"
   ]
  },
  {
   "cell_type": "code",
   "execution_count": 117,
   "metadata": {},
   "outputs": [],
   "source": [
    "# def logic(index):\n",
    "#     if index % 10 == 0:\n",
    "#         return True\n",
    "#     else:\n",
    "#         return False\n"
   ]
  },
  {
   "cell_type": "code",
   "execution_count": 118,
   "metadata": {},
   "outputs": [],
   "source": [
    "# skiprows= lambda x :logic(x)"
   ]
  },
  {
   "cell_type": "code",
   "execution_count": 120,
   "metadata": {},
   "outputs": [],
   "source": [
    "# botdata = pd.read_csv('IoT-skiprowscsv',nrows = 300000, skiprows= lambda x :logic(x) ) #header = 0 usecols=col\n",
    "botdata = pd.read_csv('IoT-BoT.csv',usecols = col , nrows = 700000, header = 0)\n",
    "# botdata = pd.read_csv('IoT-BoT.csv', nrows = 700000 ,skiprows = skiprows)"
   ]
  },
  {
   "cell_type": "code",
   "execution_count": 121,
   "metadata": {},
   "outputs": [
    {
     "data": {
      "text/plain": [
       "(700000, 66)"
      ]
     },
     "execution_count": 121,
     "metadata": {},
     "output_type": "execute_result"
    }
   ],
   "source": [
    "botdata.shape"
   ]
  },
  {
   "cell_type": "code",
   "execution_count": 156,
   "metadata": {},
   "outputs": [
    {
     "data": {
      "text/plain": [
       "67"
      ]
     },
     "execution_count": 156,
     "metadata": {},
     "output_type": "execute_result"
    }
   ],
   "source": [
    "len(botdata.columns)"
   ]
  },
  {
   "cell_type": "code",
   "execution_count": 38,
   "metadata": {},
   "outputs": [],
   "source": [
    "# botdata.head(100).to_csv('botdatasamp.csv')"
   ]
  },
  {
   "cell_type": "code",
   "execution_count": 13,
   "metadata": {},
   "outputs": [
    {
     "data": {
      "text/plain": [
       "array(['DDoS', 'DoS', 'Reconnaissance', 'Normal', 'Theft'], dtype=object)"
      ]
     },
     "execution_count": 13,
     "metadata": {},
     "output_type": "execute_result"
    }
   ],
   "source": [
    "botdata['Cat'].unique()"
   ]
  },
  {
   "cell_type": "code",
   "execution_count": 39,
   "metadata": {},
   "outputs": [
    {
     "data": {
      "text/html": [
       "<div>\n",
       "<style scoped>\n",
       "    .dataframe tbody tr th:only-of-type {\n",
       "        vertical-align: middle;\n",
       "    }\n",
       "\n",
       "    .dataframe tbody tr th {\n",
       "        vertical-align: top;\n",
       "    }\n",
       "\n",
       "    .dataframe thead th {\n",
       "        text-align: right;\n",
       "    }\n",
       "</style>\n",
       "<table border=\"1\" class=\"dataframe\">\n",
       "  <thead>\n",
       "    <tr style=\"text-align: right;\">\n",
       "      <th></th>\n",
       "      <th>Src_IP</th>\n",
       "      <th>Src_Port</th>\n",
       "      <th>Dst_IP</th>\n",
       "      <th>Dst_Port</th>\n",
       "      <th>Protocol</th>\n",
       "      <th>Timestamp</th>\n",
       "      <th>Flow_Duration</th>\n",
       "      <th>Tot_Fwd_Pkts</th>\n",
       "      <th>Tot_Bwd_Pkts</th>\n",
       "      <th>TotLen_Fwd_Pkts</th>\n",
       "      <th>...</th>\n",
       "      <th>Init_Fwd_Win_Byts</th>\n",
       "      <th>Init_Bwd_Win_Byts</th>\n",
       "      <th>Fwd_Act_Data_Pkts</th>\n",
       "      <th>Idle_Mean</th>\n",
       "      <th>Idle_Std</th>\n",
       "      <th>Idle_Max</th>\n",
       "      <th>Idle_Min</th>\n",
       "      <th>Label</th>\n",
       "      <th>Cat</th>\n",
       "      <th>Sub_Cat</th>\n",
       "    </tr>\n",
       "  </thead>\n",
       "  <tbody>\n",
       "    <tr>\n",
       "      <th>0</th>\n",
       "      <td>192.168.100.147</td>\n",
       "      <td>62006</td>\n",
       "      <td>192.168.100.3</td>\n",
       "      <td>80</td>\n",
       "      <td>6</td>\n",
       "      <td>04/06/2018 03:07:34 AM</td>\n",
       "      <td>5903640</td>\n",
       "      <td>1</td>\n",
       "      <td>1</td>\n",
       "      <td>100.0</td>\n",
       "      <td>...</td>\n",
       "      <td>-1</td>\n",
       "      <td>512</td>\n",
       "      <td>1</td>\n",
       "      <td>5903640.0</td>\n",
       "      <td>0.0</td>\n",
       "      <td>5903640.0</td>\n",
       "      <td>5903640.0</td>\n",
       "      <td>1</td>\n",
       "      <td>DDoS</td>\n",
       "      <td>DDoS_TCP</td>\n",
       "    </tr>\n",
       "    <tr>\n",
       "      <th>1</th>\n",
       "      <td>192.168.100.148</td>\n",
       "      <td>38320</td>\n",
       "      <td>192.168.100.7</td>\n",
       "      <td>80</td>\n",
       "      <td>6</td>\n",
       "      <td>03/06/2018 11:23:06 PM</td>\n",
       "      <td>8639853</td>\n",
       "      <td>1</td>\n",
       "      <td>1</td>\n",
       "      <td>100.0</td>\n",
       "      <td>...</td>\n",
       "      <td>-1</td>\n",
       "      <td>512</td>\n",
       "      <td>1</td>\n",
       "      <td>8639853.0</td>\n",
       "      <td>0.0</td>\n",
       "      <td>8639853.0</td>\n",
       "      <td>8639853.0</td>\n",
       "      <td>1</td>\n",
       "      <td>DoS</td>\n",
       "      <td>DoS_TCP</td>\n",
       "    </tr>\n",
       "    <tr>\n",
       "      <th>2</th>\n",
       "      <td>192.168.100.148</td>\n",
       "      <td>40565</td>\n",
       "      <td>192.168.100.7</td>\n",
       "      <td>80</td>\n",
       "      <td>6</td>\n",
       "      <td>03/06/2018 11:23:07 PM</td>\n",
       "      <td>8991161</td>\n",
       "      <td>1</td>\n",
       "      <td>1</td>\n",
       "      <td>100.0</td>\n",
       "      <td>...</td>\n",
       "      <td>-1</td>\n",
       "      <td>512</td>\n",
       "      <td>1</td>\n",
       "      <td>8991161.0</td>\n",
       "      <td>0.0</td>\n",
       "      <td>8991161.0</td>\n",
       "      <td>8991161.0</td>\n",
       "      <td>1</td>\n",
       "      <td>DoS</td>\n",
       "      <td>DoS_TCP</td>\n",
       "    </tr>\n",
       "    <tr>\n",
       "      <th>3</th>\n",
       "      <td>192.168.100.148</td>\n",
       "      <td>39904</td>\n",
       "      <td>192.168.100.3</td>\n",
       "      <td>80</td>\n",
       "      <td>6</td>\n",
       "      <td>04/06/2018 05:09:02 AM</td>\n",
       "      <td>19371982</td>\n",
       "      <td>1</td>\n",
       "      <td>1</td>\n",
       "      <td>0.0</td>\n",
       "      <td>...</td>\n",
       "      <td>-1</td>\n",
       "      <td>237</td>\n",
       "      <td>0</td>\n",
       "      <td>19371982.0</td>\n",
       "      <td>0.0</td>\n",
       "      <td>19371982.0</td>\n",
       "      <td>19371982.0</td>\n",
       "      <td>1</td>\n",
       "      <td>DDoS</td>\n",
       "      <td>DDoS_HTTP</td>\n",
       "    </tr>\n",
       "    <tr>\n",
       "      <th>4</th>\n",
       "      <td>192.168.100.148</td>\n",
       "      <td>62340</td>\n",
       "      <td>192.168.100.7</td>\n",
       "      <td>80</td>\n",
       "      <td>6</td>\n",
       "      <td>03/06/2018 11:20:03 PM</td>\n",
       "      <td>15917618</td>\n",
       "      <td>1</td>\n",
       "      <td>1</td>\n",
       "      <td>100.0</td>\n",
       "      <td>...</td>\n",
       "      <td>-1</td>\n",
       "      <td>512</td>\n",
       "      <td>1</td>\n",
       "      <td>15917618.0</td>\n",
       "      <td>0.0</td>\n",
       "      <td>15917618.0</td>\n",
       "      <td>15917618.0</td>\n",
       "      <td>1</td>\n",
       "      <td>DoS</td>\n",
       "      <td>DoS_TCP</td>\n",
       "    </tr>\n",
       "    <tr>\n",
       "      <th>5</th>\n",
       "      <td>192.168.100.149</td>\n",
       "      <td>20355</td>\n",
       "      <td>192.168.100.3</td>\n",
       "      <td>80</td>\n",
       "      <td>6</td>\n",
       "      <td>03/06/2018 11:20:15 PM</td>\n",
       "      <td>152319</td>\n",
       "      <td>1</td>\n",
       "      <td>2</td>\n",
       "      <td>0.0</td>\n",
       "      <td>...</td>\n",
       "      <td>-1</td>\n",
       "      <td>29200</td>\n",
       "      <td>0</td>\n",
       "      <td>0.0</td>\n",
       "      <td>0.0</td>\n",
       "      <td>0.0</td>\n",
       "      <td>0.0</td>\n",
       "      <td>1</td>\n",
       "      <td>DoS</td>\n",
       "      <td>DoS_TCP</td>\n",
       "    </tr>\n",
       "    <tr>\n",
       "      <th>6</th>\n",
       "      <td>192.168.100.149</td>\n",
       "      <td>41716</td>\n",
       "      <td>192.168.100.3</td>\n",
       "      <td>80</td>\n",
       "      <td>6</td>\n",
       "      <td>03/06/2018 11:23:22 PM</td>\n",
       "      <td>127961</td>\n",
       "      <td>1</td>\n",
       "      <td>2</td>\n",
       "      <td>0.0</td>\n",
       "      <td>...</td>\n",
       "      <td>-1</td>\n",
       "      <td>29200</td>\n",
       "      <td>0</td>\n",
       "      <td>0.0</td>\n",
       "      <td>0.0</td>\n",
       "      <td>0.0</td>\n",
       "      <td>0.0</td>\n",
       "      <td>1</td>\n",
       "      <td>DoS</td>\n",
       "      <td>DoS_TCP</td>\n",
       "    </tr>\n",
       "  </tbody>\n",
       "</table>\n",
       "<p>7 rows × 66 columns</p>\n",
       "</div>"
      ],
      "text/plain": [
       "            Src_IP  Src_Port         Dst_IP  Dst_Port  Protocol  \\\n",
       "0  192.168.100.147     62006  192.168.100.3        80         6   \n",
       "1  192.168.100.148     38320  192.168.100.7        80         6   \n",
       "2  192.168.100.148     40565  192.168.100.7        80         6   \n",
       "3  192.168.100.148     39904  192.168.100.3        80         6   \n",
       "4  192.168.100.148     62340  192.168.100.7        80         6   \n",
       "5  192.168.100.149     20355  192.168.100.3        80         6   \n",
       "6  192.168.100.149     41716  192.168.100.3        80         6   \n",
       "\n",
       "                Timestamp  Flow_Duration  Tot_Fwd_Pkts  Tot_Bwd_Pkts  \\\n",
       "0  04/06/2018 03:07:34 AM        5903640             1             1   \n",
       "1  03/06/2018 11:23:06 PM        8639853             1             1   \n",
       "2  03/06/2018 11:23:07 PM        8991161             1             1   \n",
       "3  04/06/2018 05:09:02 AM       19371982             1             1   \n",
       "4  03/06/2018 11:20:03 PM       15917618             1             1   \n",
       "5  03/06/2018 11:20:15 PM         152319             1             2   \n",
       "6  03/06/2018 11:23:22 PM         127961             1             2   \n",
       "\n",
       "   TotLen_Fwd_Pkts  ...  Init_Fwd_Win_Byts  Init_Bwd_Win_Byts  \\\n",
       "0            100.0  ...                 -1                512   \n",
       "1            100.0  ...                 -1                512   \n",
       "2            100.0  ...                 -1                512   \n",
       "3              0.0  ...                 -1                237   \n",
       "4            100.0  ...                 -1                512   \n",
       "5              0.0  ...                 -1              29200   \n",
       "6              0.0  ...                 -1              29200   \n",
       "\n",
       "   Fwd_Act_Data_Pkts   Idle_Mean  Idle_Std    Idle_Max    Idle_Min  Label  \\\n",
       "0                  1   5903640.0       0.0   5903640.0   5903640.0      1   \n",
       "1                  1   8639853.0       0.0   8639853.0   8639853.0      1   \n",
       "2                  1   8991161.0       0.0   8991161.0   8991161.0      1   \n",
       "3                  0  19371982.0       0.0  19371982.0  19371982.0      1   \n",
       "4                  1  15917618.0       0.0  15917618.0  15917618.0      1   \n",
       "5                  0         0.0       0.0         0.0         0.0      1   \n",
       "6                  0         0.0       0.0         0.0         0.0      1   \n",
       "\n",
       "    Cat    Sub_Cat  \n",
       "0  DDoS   DDoS_TCP  \n",
       "1   DoS    DoS_TCP  \n",
       "2   DoS    DoS_TCP  \n",
       "3  DDoS  DDoS_HTTP  \n",
       "4   DoS    DoS_TCP  \n",
       "5   DoS    DoS_TCP  \n",
       "6   DoS    DoS_TCP  \n",
       "\n",
       "[7 rows x 66 columns]"
      ]
     },
     "execution_count": 39,
     "metadata": {},
     "output_type": "execute_result"
    }
   ],
   "source": [
    "botdata.head(7)"
   ]
  },
  {
   "cell_type": "markdown",
   "metadata": {},
   "source": [
    "#### 1. DATATYPE CONVERSION"
   ]
  },
  {
   "cell_type": "code",
   "execution_count": 40,
   "metadata": {},
   "outputs": [],
   "source": [
    "botdata['Dst_Port'] = botdata['Dst_Port'].astype('uint16')\n",
    "botdata['Src_Port'] = botdata['Src_Port'].astype('uint16')\n",
    "botdata['Dst_Port'] = botdata['Dst_Port'].astype('uint8')\n",
    "botdata['Protocol'] = botdata['Protocol'].astype('uint8')\n",
    "botdata['Flow_Duration'] = botdata['Flow_Duration'].astype('uint32')\n",
    "botdata['Tot_Fwd_Pkts'] = botdata['Tot_Fwd_Pkts'].astype('uint16')\n",
    "botdata['Tot_Bwd_Pkts'] = botdata['Tot_Bwd_Pkts'].astype('uint16')\n",
    "botdata['TotLen_Fwd_Pkts'] = botdata['TotLen_Fwd_Pkts'].astype('float32')\n",
    "botdata['TotLen_Bwd_Pkts'] = botdata['TotLen_Bwd_Pkts'].astype('float32')\n",
    "botdata['Fwd_Pkt_Len_Max'] = botdata['Fwd_Pkt_Len_Max'].astype('float32')\n",
    "botdata['Fwd_Pkt_Len_Min'] = botdata['Fwd_Pkt_Len_Min'].astype('float32')\n",
    "botdata['Fwd_Pkt_Len_Mean'] = botdata['Fwd_Pkt_Len_Mean'].astype('float32')\n",
    "botdata['Fwd_Pkt_Len_Std'] = botdata['Fwd_Pkt_Len_Std'].astype('float32')\n",
    "botdata['Bwd_Pkt_Len_Max'] = botdata['Bwd_Pkt_Len_Max'].astype('float32')\n",
    "botdata['Bwd_Pkt_Len_Min'] = botdata['Bwd_Pkt_Len_Min'].astype('float32')\n",
    "botdata['Bwd_Pkt_Len_Mean'] = botdata['Bwd_Pkt_Len_Mean'].astype('float32')\n",
    "botdata['Bwd_Pkt_Len_Std'] = botdata['Bwd_Pkt_Len_Std'].astype('float32')\n",
    "botdata['Fwd_IAT_Tot'] = botdata['Fwd_IAT_Tot'].astype('float32')\n",
    "botdata['Bwd_IAT_Mean.1'] = botdata['Bwd_IAT_Mean.1'].astype('float32')\n",
    "botdata['Bwd_IAT_Std'] = botdata['Bwd_IAT_Std'].astype('float32')\n",
    "botdata['Bwd_IAT_Min'] = botdata['Bwd_IAT_Min'].astype('float32')\n",
    "botdata['Bwd_IAT_Max'] = botdata['Bwd_IAT_Max'].astype('float32')\n",
    "botdata['Bwd_PSH_Flags'] = botdata['Bwd_PSH_Flags'].astype('uint8')\n",
    "botdata['Bwd_URG_Flags'] = botdata['Bwd_URG_Flags'].astype('uint8')\n",
    "botdata['Fwd_Header_Len'] = botdata['Bwd_PSH_Flags'].astype('uint32')\n",
    "botdata['Bwd_Header_Len'] = botdata['Bwd_Header_Len'].astype('uint32')\n",
    "botdata['Pkt_Len_Max'] = botdata['Pkt_Len_Max'].astype('float32')\n",
    "botdata['Pkt_Len_Min'] = botdata['Pkt_Len_Min'].astype('float32')\n",
    "botdata['Pkt_Len_Mean'] = botdata['Pkt_Len_Mean'].astype('float32')\n",
    "botdata['Pkt_Len_Std'] = botdata['Pkt_Len_Std'].astype('float32')\n",
    "botdata['Pkt_Len_Var'] = botdata['Pkt_Len_Var'].astype('float32')\n",
    "botdata['SYN_Flag_Cnt'] = botdata['SYN_Flag_Cnt'].astype('uint8')\n",
    "botdata['ACK_Flag_Cnt'] = botdata['ACK_Flag_Cnt'].astype('uint8')\n",
    "botdata['Down/Up_Ratio'] = botdata['Down/Up_Ratio'].astype('float32')\n",
    "botdata['Pkt_Size_Avg'] = botdata['Pkt_Size_Avg'].astype('float32')\n",
    "botdata['Bwd_Seg_Size_Avg'] = botdata['Bwd_Seg_Size_Avg'].astype('float32')\n",
    "botdata['Fwd_Seg_Size_Avg'] = botdata['Fwd_Seg_Size_Avg'].astype('float32')\n",
    "botdata['Subflow_Fwd_Pkts'] = botdata['Subflow_Fwd_Pkts'].astype('uint32')\n",
    "botdata['Subflow_Fwd_Byts'] = botdata['Subflow_Fwd_Byts'].astype('uint32')\n",
    "botdata['Subflow_Bwd_Pkts'] = botdata['Subflow_Bwd_Pkts'].astype('uint32')\n",
    "botdata['Subflow_Fwd_Pkts'] = botdata['Subflow_Fwd_Pkts'].astype('uint32')\n",
    "botdata['Label'] = botdata['Label'].astype('uint8')\n",
    "botdata['Init_Fwd_Win_Byts'] = botdata['Init_Fwd_Win_Byts'].astype('int32')\n",
    "botdata['Init_Bwd_Win_Byts'] = botdata['Init_Bwd_Win_Byts'].astype('int32')"
   ]
  },
  {
   "cell_type": "code",
   "execution_count": 41,
   "metadata": {},
   "outputs": [],
   "source": [
    "# float32_cols = ['TotLen_Fwd_Pkts',\n",
    "# 'TotLen_Bwd_Pkts',\n",
    "# 'Fwd_Pkt_Len_Max',\n",
    "# 'Fwd_Pkt_Len_Min',\n",
    "# 'Fwd_Pkt_Len_Mean',\n",
    "# 'Fwd_Pkt_Len_Std',\n",
    "# 'Bwd_Pkt_Len_Max',\n",
    "# 'Bwd_Pkt_Len_Min',\n",
    "# 'Bwd_Pkt_Len_Mean',\n",
    "# 'Bwd_Pkt_Len_Std',\n",
    "# 'Fwd_IAT_Tot',\n",
    "# 'Bwd_IAT_Mean.',\n",
    "# 'Bwd_IAT_Std',\n",
    "# 'Bwd_IAT_Min',\n",
    "# 'Bwd_IAT_Max',\n",
    "# 'Pkt_Len_Max',\n",
    "# 'Pkt_Len_Min',\n",
    "# 'Pkt_Len_Mean',\n",
    "# 'Pkt_Len_Std',\n",
    "# 'Pkt_Len_Var',\n",
    "# 'Down/Up_Ratio',\n",
    "# 'Pkt_Size_Avg',\n",
    "# 'Bwd_Seg_Size_Avg',\n",
    "# 'Fwd_Seg_Size_Avg']\n",
    "\n",
    "# for col in float32_cols:\n",
    "#     botdata[col] = botdata.astype('float32')"
   ]
  },
  {
   "cell_type": "code",
   "execution_count": 42,
   "metadata": {},
   "outputs": [
    {
     "name": "stdout",
     "output_type": "stream",
     "text": [
      "<class 'pandas.core.frame.DataFrame'>\n",
      "RangeIndex: 700000 entries, 0 to 699999\n",
      "Data columns (total 66 columns):\n",
      " #   Column             Non-Null Count   Dtype  \n",
      "---  ------             --------------   -----  \n",
      " 0   Src_IP             700000 non-null  object \n",
      " 1   Src_Port           700000 non-null  uint16 \n",
      " 2   Dst_IP             700000 non-null  object \n",
      " 3   Dst_Port           700000 non-null  uint8  \n",
      " 4   Protocol           700000 non-null  uint8  \n",
      " 5   Timestamp          700000 non-null  object \n",
      " 6   Flow_Duration      700000 non-null  uint32 \n",
      " 7   Tot_Fwd_Pkts       700000 non-null  uint16 \n",
      " 8   Tot_Bwd_Pkts       700000 non-null  uint16 \n",
      " 9   TotLen_Fwd_Pkts    700000 non-null  float32\n",
      " 10  TotLen_Bwd_Pkts    700000 non-null  float32\n",
      " 11  Fwd_Pkt_Len_Max    700000 non-null  float32\n",
      " 12  Fwd_Pkt_Len_Min    700000 non-null  float32\n",
      " 13  Fwd_Pkt_Len_Mean   700000 non-null  float32\n",
      " 14  Fwd_Pkt_Len_Std    700000 non-null  float32\n",
      " 15  Bwd_Pkt_Len_Max    700000 non-null  float32\n",
      " 16  Bwd_Pkt_Len_Min    700000 non-null  float32\n",
      " 17  Bwd_Pkt_Len_Mean   700000 non-null  float32\n",
      " 18  Bwd_Pkt_Len_Std    700000 non-null  float32\n",
      " 19  Flow_Byts/s        700000 non-null  float64\n",
      " 20  Flow_Pkts/s        700000 non-null  float64\n",
      " 21  Flow_IAT_Mean      700000 non-null  float64\n",
      " 22  Flow_IAT_Std       700000 non-null  float64\n",
      " 23  Flow_IAT_Max       700000 non-null  float64\n",
      " 24  Flow_IAT_Min       700000 non-null  float64\n",
      " 25  Fwd_IAT_Tot        700000 non-null  float32\n",
      " 26  Fwd_IAT_Mean       700000 non-null  float64\n",
      " 27  Bwd_IAT_Mean       700000 non-null  float64\n",
      " 28  Fwd_IAT_Max        700000 non-null  float64\n",
      " 29  Fwd_IAT_Min        700000 non-null  float64\n",
      " 30  Bwd_IAT_Tot        700000 non-null  float64\n",
      " 31  Bwd_IAT_Mean.1     700000 non-null  float32\n",
      " 32  Bwd_IAT_Std        700000 non-null  float32\n",
      " 33  Bwd_IAT_Max        700000 non-null  float32\n",
      " 34  Bwd_IAT_Min        700000 non-null  float32\n",
      " 35  Bwd_PSH_Flags      700000 non-null  uint8  \n",
      " 36  Bwd_URG_Flags      700000 non-null  uint8  \n",
      " 37  Fwd_Header_Len     700000 non-null  uint32 \n",
      " 38  Bwd_Header_Len     700000 non-null  uint32 \n",
      " 39  Fwd_Pkts/s         700000 non-null  float64\n",
      " 40  Bwd_Pkts/s         700000 non-null  float64\n",
      " 41  Pkt_Len_Min        700000 non-null  float32\n",
      " 42  Pkt_Len_Max        700000 non-null  float32\n",
      " 43  Pkt_Len_Mean       700000 non-null  float32\n",
      " 44  Pkt_Len_Std        700000 non-null  float32\n",
      " 45  Pkt_Len_Var        700000 non-null  float32\n",
      " 46  SYN_Flag_Cnt       700000 non-null  uint8  \n",
      " 47  ACK_Flag_Cnt       700000 non-null  uint8  \n",
      " 48  Down/Up_Ratio      700000 non-null  float32\n",
      " 49  Pkt_Size_Avg       700000 non-null  float32\n",
      " 50  Fwd_Seg_Size_Avg   700000 non-null  float32\n",
      " 51  Bwd_Seg_Size_Avg   700000 non-null  float32\n",
      " 52  Subflow_Fwd_Pkts   700000 non-null  uint32 \n",
      " 53  Subflow_Fwd_Byts   700000 non-null  uint32 \n",
      " 54  Subflow_Bwd_Pkts   700000 non-null  uint32 \n",
      " 55  Subflow_Bwd_Byts   700000 non-null  int64  \n",
      " 56  Init_Fwd_Win_Byts  700000 non-null  int32  \n",
      " 57  Init_Bwd_Win_Byts  700000 non-null  int32  \n",
      " 58  Fwd_Act_Data_Pkts  700000 non-null  int64  \n",
      " 59  Idle_Mean          700000 non-null  float64\n",
      " 60  Idle_Std           700000 non-null  float64\n",
      " 61  Idle_Max           700000 non-null  float64\n",
      " 62  Idle_Min           700000 non-null  float64\n",
      " 63  Label              700000 non-null  uint8  \n",
      " 64  Cat                700000 non-null  object \n",
      " 65  Sub_Cat            700000 non-null  object \n",
      "dtypes: float32(24), float64(17), int32(2), int64(2), object(5), uint16(3), uint32(6), uint8(7)\n",
      "memory usage: 222.3+ MB\n"
     ]
    }
   ],
   "source": [
    "botdata.info()"
   ]
  },
  {
   "cell_type": "code",
   "execution_count": 43,
   "metadata": {},
   "outputs": [
    {
     "data": {
      "text/html": [
       "<div>\n",
       "<style scoped>\n",
       "    .dataframe tbody tr th:only-of-type {\n",
       "        vertical-align: middle;\n",
       "    }\n",
       "\n",
       "    .dataframe tbody tr th {\n",
       "        vertical-align: top;\n",
       "    }\n",
       "\n",
       "    .dataframe thead th {\n",
       "        text-align: right;\n",
       "    }\n",
       "</style>\n",
       "<table border=\"1\" class=\"dataframe\">\n",
       "  <thead>\n",
       "    <tr style=\"text-align: right;\">\n",
       "      <th></th>\n",
       "      <th>Src_Port</th>\n",
       "      <th>Dst_Port</th>\n",
       "      <th>Protocol</th>\n",
       "      <th>Flow_Duration</th>\n",
       "      <th>Tot_Fwd_Pkts</th>\n",
       "      <th>Tot_Bwd_Pkts</th>\n",
       "      <th>TotLen_Fwd_Pkts</th>\n",
       "      <th>TotLen_Bwd_Pkts</th>\n",
       "      <th>Fwd_Pkt_Len_Max</th>\n",
       "      <th>Fwd_Pkt_Len_Min</th>\n",
       "      <th>...</th>\n",
       "      <th>Subflow_Bwd_Pkts</th>\n",
       "      <th>Subflow_Bwd_Byts</th>\n",
       "      <th>Init_Fwd_Win_Byts</th>\n",
       "      <th>Init_Bwd_Win_Byts</th>\n",
       "      <th>Fwd_Act_Data_Pkts</th>\n",
       "      <th>Idle_Mean</th>\n",
       "      <th>Idle_Std</th>\n",
       "      <th>Idle_Max</th>\n",
       "      <th>Idle_Min</th>\n",
       "      <th>Label</th>\n",
       "    </tr>\n",
       "  </thead>\n",
       "  <tbody>\n",
       "    <tr>\n",
       "      <th>count</th>\n",
       "      <td>700000.000000</td>\n",
       "      <td>700000.000000</td>\n",
       "      <td>700000.000000</td>\n",
       "      <td>7.000000e+05</td>\n",
       "      <td>700000.000000</td>\n",
       "      <td>700000.000000</td>\n",
       "      <td>7.000000e+05</td>\n",
       "      <td>7.000000e+05</td>\n",
       "      <td>700000.000000</td>\n",
       "      <td>700000.000000</td>\n",
       "      <td>...</td>\n",
       "      <td>700000.000000</td>\n",
       "      <td>7.000000e+05</td>\n",
       "      <td>700000.0</td>\n",
       "      <td>700000.000000</td>\n",
       "      <td>700000.000000</td>\n",
       "      <td>7.000000e+05</td>\n",
       "      <td>7.000000e+05</td>\n",
       "      <td>7.000000e+05</td>\n",
       "      <td>7.000000e+05</td>\n",
       "      <td>700000.000000</td>\n",
       "    </tr>\n",
       "    <tr>\n",
       "      <th>mean</th>\n",
       "      <td>36617.277851</td>\n",
       "      <td>92.726571</td>\n",
       "      <td>9.466420</td>\n",
       "      <td>7.635065e+06</td>\n",
       "      <td>8.472480</td>\n",
       "      <td>4.461306</td>\n",
       "      <td>5.529579e+03</td>\n",
       "      <td>3.339265e+03</td>\n",
       "      <td>46.450733</td>\n",
       "      <td>15.574564</td>\n",
       "      <td>...</td>\n",
       "      <td>4.461306</td>\n",
       "      <td>3.339266e+03</td>\n",
       "      <td>-1.0</td>\n",
       "      <td>4329.098460</td>\n",
       "      <td>7.536041</td>\n",
       "      <td>3.086471e+06</td>\n",
       "      <td>3.092869e+05</td>\n",
       "      <td>3.369809e+06</td>\n",
       "      <td>2.823822e+06</td>\n",
       "      <td>0.949713</td>\n",
       "    </tr>\n",
       "    <tr>\n",
       "      <th>std</th>\n",
       "      <td>19493.915048</td>\n",
       "      <td>46.689188</td>\n",
       "      <td>5.115146</td>\n",
       "      <td>1.181570e+07</td>\n",
       "      <td>156.857303</td>\n",
       "      <td>114.310193</td>\n",
       "      <td>1.728722e+05</td>\n",
       "      <td>3.494796e+05</td>\n",
       "      <td>161.069290</td>\n",
       "      <td>46.489159</td>\n",
       "      <td>...</td>\n",
       "      <td>114.310193</td>\n",
       "      <td>3.494796e+05</td>\n",
       "      <td>0.0</td>\n",
       "      <td>10224.638753</td>\n",
       "      <td>156.584818</td>\n",
       "      <td>7.284733e+06</td>\n",
       "      <td>9.287791e+05</td>\n",
       "      <td>7.532008e+06</td>\n",
       "      <td>7.131897e+06</td>\n",
       "      <td>0.218537</td>\n",
       "    </tr>\n",
       "    <tr>\n",
       "      <th>min</th>\n",
       "      <td>0.000000</td>\n",
       "      <td>0.000000</td>\n",
       "      <td>0.000000</td>\n",
       "      <td>1.000000e+00</td>\n",
       "      <td>0.000000</td>\n",
       "      <td>1.000000</td>\n",
       "      <td>0.000000e+00</td>\n",
       "      <td>0.000000e+00</td>\n",
       "      <td>0.000000</td>\n",
       "      <td>0.000000</td>\n",
       "      <td>...</td>\n",
       "      <td>1.000000</td>\n",
       "      <td>0.000000e+00</td>\n",
       "      <td>-1.0</td>\n",
       "      <td>-1.000000</td>\n",
       "      <td>0.000000</td>\n",
       "      <td>0.000000e+00</td>\n",
       "      <td>0.000000e+00</td>\n",
       "      <td>0.000000e+00</td>\n",
       "      <td>0.000000e+00</td>\n",
       "      <td>0.000000</td>\n",
       "    </tr>\n",
       "    <tr>\n",
       "      <th>25%</th>\n",
       "      <td>20510.000000</td>\n",
       "      <td>80.000000</td>\n",
       "      <td>6.000000</td>\n",
       "      <td>3.781300e+04</td>\n",
       "      <td>0.000000</td>\n",
       "      <td>1.000000</td>\n",
       "      <td>0.000000e+00</td>\n",
       "      <td>0.000000e+00</td>\n",
       "      <td>0.000000</td>\n",
       "      <td>0.000000</td>\n",
       "      <td>...</td>\n",
       "      <td>1.000000</td>\n",
       "      <td>0.000000e+00</td>\n",
       "      <td>-1.0</td>\n",
       "      <td>-1.000000</td>\n",
       "      <td>0.000000</td>\n",
       "      <td>0.000000e+00</td>\n",
       "      <td>0.000000e+00</td>\n",
       "      <td>0.000000e+00</td>\n",
       "      <td>0.000000e+00</td>\n",
       "      <td>1.000000</td>\n",
       "    </tr>\n",
       "    <tr>\n",
       "      <th>50%</th>\n",
       "      <td>40886.000000</td>\n",
       "      <td>80.000000</td>\n",
       "      <td>6.000000</td>\n",
       "      <td>3.020786e+06</td>\n",
       "      <td>1.000000</td>\n",
       "      <td>2.000000</td>\n",
       "      <td>0.000000e+00</td>\n",
       "      <td>0.000000e+00</td>\n",
       "      <td>0.000000</td>\n",
       "      <td>0.000000</td>\n",
       "      <td>...</td>\n",
       "      <td>2.000000</td>\n",
       "      <td>0.000000e+00</td>\n",
       "      <td>-1.0</td>\n",
       "      <td>0.000000</td>\n",
       "      <td>0.000000</td>\n",
       "      <td>0.000000e+00</td>\n",
       "      <td>0.000000e+00</td>\n",
       "      <td>0.000000e+00</td>\n",
       "      <td>0.000000e+00</td>\n",
       "      <td>1.000000</td>\n",
       "    </tr>\n",
       "    <tr>\n",
       "      <th>75%</th>\n",
       "      <td>53036.000000</td>\n",
       "      <td>80.000000</td>\n",
       "      <td>17.000000</td>\n",
       "      <td>1.140236e+07</td>\n",
       "      <td>2.000000</td>\n",
       "      <td>2.000000</td>\n",
       "      <td>1.000000e+02</td>\n",
       "      <td>1.000000e+02</td>\n",
       "      <td>100.000000</td>\n",
       "      <td>0.000000</td>\n",
       "      <td>...</td>\n",
       "      <td>2.000000</td>\n",
       "      <td>1.000000e+02</td>\n",
       "      <td>-1.0</td>\n",
       "      <td>512.000000</td>\n",
       "      <td>1.000000</td>\n",
       "      <td>6.096940e+06</td>\n",
       "      <td>0.000000e+00</td>\n",
       "      <td>6.415884e+06</td>\n",
       "      <td>5.278749e+06</td>\n",
       "      <td>1.000000</td>\n",
       "    </tr>\n",
       "    <tr>\n",
       "      <th>max</th>\n",
       "      <td>65535.000000</td>\n",
       "      <td>255.000000</td>\n",
       "      <td>17.000000</td>\n",
       "      <td>1.200000e+08</td>\n",
       "      <td>9599.000000</td>\n",
       "      <td>32519.000000</td>\n",
       "      <td>8.976010e+07</td>\n",
       "      <td>1.963032e+08</td>\n",
       "      <td>64240.000000</td>\n",
       "      <td>1448.000000</td>\n",
       "      <td>...</td>\n",
       "      <td>32519.000000</td>\n",
       "      <td>1.963032e+08</td>\n",
       "      <td>-1.0</td>\n",
       "      <td>32768.000000</td>\n",
       "      <td>9599.000000</td>\n",
       "      <td>1.199762e+08</td>\n",
       "      <td>3.867281e+07</td>\n",
       "      <td>1.199762e+08</td>\n",
       "      <td>1.199762e+08</td>\n",
       "      <td>1.000000</td>\n",
       "    </tr>\n",
       "  </tbody>\n",
       "</table>\n",
       "<p>8 rows × 61 columns</p>\n",
       "</div>"
      ],
      "text/plain": [
       "            Src_Port       Dst_Port       Protocol  Flow_Duration  \\\n",
       "count  700000.000000  700000.000000  700000.000000   7.000000e+05   \n",
       "mean    36617.277851      92.726571       9.466420   7.635065e+06   \n",
       "std     19493.915048      46.689188       5.115146   1.181570e+07   \n",
       "min         0.000000       0.000000       0.000000   1.000000e+00   \n",
       "25%     20510.000000      80.000000       6.000000   3.781300e+04   \n",
       "50%     40886.000000      80.000000       6.000000   3.020786e+06   \n",
       "75%     53036.000000      80.000000      17.000000   1.140236e+07   \n",
       "max     65535.000000     255.000000      17.000000   1.200000e+08   \n",
       "\n",
       "        Tot_Fwd_Pkts   Tot_Bwd_Pkts  TotLen_Fwd_Pkts  TotLen_Bwd_Pkts  \\\n",
       "count  700000.000000  700000.000000     7.000000e+05     7.000000e+05   \n",
       "mean        8.472480       4.461306     5.529579e+03     3.339265e+03   \n",
       "std       156.857303     114.310193     1.728722e+05     3.494796e+05   \n",
       "min         0.000000       1.000000     0.000000e+00     0.000000e+00   \n",
       "25%         0.000000       1.000000     0.000000e+00     0.000000e+00   \n",
       "50%         1.000000       2.000000     0.000000e+00     0.000000e+00   \n",
       "75%         2.000000       2.000000     1.000000e+02     1.000000e+02   \n",
       "max      9599.000000   32519.000000     8.976010e+07     1.963032e+08   \n",
       "\n",
       "       Fwd_Pkt_Len_Max  Fwd_Pkt_Len_Min  ...  Subflow_Bwd_Pkts  \\\n",
       "count    700000.000000    700000.000000  ...     700000.000000   \n",
       "mean         46.450733        15.574564  ...          4.461306   \n",
       "std         161.069290        46.489159  ...        114.310193   \n",
       "min           0.000000         0.000000  ...          1.000000   \n",
       "25%           0.000000         0.000000  ...          1.000000   \n",
       "50%           0.000000         0.000000  ...          2.000000   \n",
       "75%         100.000000         0.000000  ...          2.000000   \n",
       "max       64240.000000      1448.000000  ...      32519.000000   \n",
       "\n",
       "       Subflow_Bwd_Byts  Init_Fwd_Win_Byts  Init_Bwd_Win_Byts  \\\n",
       "count      7.000000e+05           700000.0      700000.000000   \n",
       "mean       3.339266e+03               -1.0        4329.098460   \n",
       "std        3.494796e+05                0.0       10224.638753   \n",
       "min        0.000000e+00               -1.0          -1.000000   \n",
       "25%        0.000000e+00               -1.0          -1.000000   \n",
       "50%        0.000000e+00               -1.0           0.000000   \n",
       "75%        1.000000e+02               -1.0         512.000000   \n",
       "max        1.963032e+08               -1.0       32768.000000   \n",
       "\n",
       "       Fwd_Act_Data_Pkts     Idle_Mean      Idle_Std      Idle_Max  \\\n",
       "count      700000.000000  7.000000e+05  7.000000e+05  7.000000e+05   \n",
       "mean            7.536041  3.086471e+06  3.092869e+05  3.369809e+06   \n",
       "std           156.584818  7.284733e+06  9.287791e+05  7.532008e+06   \n",
       "min             0.000000  0.000000e+00  0.000000e+00  0.000000e+00   \n",
       "25%             0.000000  0.000000e+00  0.000000e+00  0.000000e+00   \n",
       "50%             0.000000  0.000000e+00  0.000000e+00  0.000000e+00   \n",
       "75%             1.000000  6.096940e+06  0.000000e+00  6.415884e+06   \n",
       "max          9599.000000  1.199762e+08  3.867281e+07  1.199762e+08   \n",
       "\n",
       "           Idle_Min          Label  \n",
       "count  7.000000e+05  700000.000000  \n",
       "mean   2.823822e+06       0.949713  \n",
       "std    7.131897e+06       0.218537  \n",
       "min    0.000000e+00       0.000000  \n",
       "25%    0.000000e+00       1.000000  \n",
       "50%    0.000000e+00       1.000000  \n",
       "75%    5.278749e+06       1.000000  \n",
       "max    1.199762e+08       1.000000  \n",
       "\n",
       "[8 rows x 61 columns]"
      ]
     },
     "execution_count": 43,
     "metadata": {},
     "output_type": "execute_result"
    }
   ],
   "source": [
    "botdata.describe()"
   ]
  },
  {
   "cell_type": "markdown",
   "metadata": {},
   "source": [
    "#### 2. MISSING VALUE ANALYSIS\n",
    "##### Here we have no missing values"
   ]
  },
  {
   "cell_type": "code",
   "execution_count": 44,
   "metadata": {},
   "outputs": [
    {
     "data": {
      "text/plain": [
       "0"
      ]
     },
     "execution_count": 44,
     "metadata": {},
     "output_type": "execute_result"
    }
   ],
   "source": [
    "botdata.isnull().sum().sum()"
   ]
  },
  {
   "cell_type": "markdown",
   "metadata": {},
   "source": [
    "#### 3. FEATURE SELECTION"
   ]
  },
  {
   "cell_type": "code",
   "execution_count": 46,
   "metadata": {},
   "outputs": [],
   "source": [
    "from sklearn.datasets import load_iris\n",
    "from sklearn.feature_selection import SelectKBest\n",
    "from sklearn.feature_selection import f_classif\n"
   ]
  },
  {
   "cell_type": "code",
   "execution_count": 47,
   "metadata": {},
   "outputs": [],
   "source": [
    "botdata['Src_Port'] = botdata['Src_Port'].astype('float32')"
   ]
  },
  {
   "cell_type": "code",
   "execution_count": 51,
   "metadata": {},
   "outputs": [
    {
     "data": {
      "text/plain": [
       "Index(['Src_IP', 'Src_Port', 'Dst_IP', 'Dst_Port', 'Protocol', 'Timestamp',\n",
       "       'Flow_Duration', 'Tot_Fwd_Pkts', 'Tot_Bwd_Pkts', 'TotLen_Fwd_Pkts',\n",
       "       'TotLen_Bwd_Pkts', 'Fwd_Pkt_Len_Max', 'Fwd_Pkt_Len_Min',\n",
       "       'Fwd_Pkt_Len_Mean', 'Fwd_Pkt_Len_Std', 'Bwd_Pkt_Len_Max',\n",
       "       'Bwd_Pkt_Len_Min', 'Bwd_Pkt_Len_Mean', 'Bwd_Pkt_Len_Std', 'Flow_Byts/s',\n",
       "       'Flow_Pkts/s', 'Flow_IAT_Mean', 'Flow_IAT_Std', 'Flow_IAT_Max',\n",
       "       'Flow_IAT_Min', 'Fwd_IAT_Tot', 'Fwd_IAT_Mean', 'Bwd_IAT_Mean',\n",
       "       'Fwd_IAT_Max', 'Fwd_IAT_Min', 'Bwd_IAT_Tot', 'Bwd_IAT_Mean.1',\n",
       "       'Bwd_IAT_Std', 'Bwd_IAT_Max', 'Bwd_IAT_Min', 'Bwd_PSH_Flags',\n",
       "       'Bwd_URG_Flags', 'Fwd_Header_Len', 'Bwd_Header_Len', 'Fwd_Pkts/s',\n",
       "       'Bwd_Pkts/s', 'Pkt_Len_Min', 'Pkt_Len_Max', 'Pkt_Len_Mean',\n",
       "       'Pkt_Len_Std', 'Pkt_Len_Var', 'SYN_Flag_Cnt', 'ACK_Flag_Cnt',\n",
       "       'Down/Up_Ratio', 'Pkt_Size_Avg', 'Fwd_Seg_Size_Avg', 'Bwd_Seg_Size_Avg',\n",
       "       'Subflow_Fwd_Pkts', 'Subflow_Fwd_Byts', 'Subflow_Bwd_Pkts',\n",
       "       'Subflow_Bwd_Byts', 'Init_Fwd_Win_Byts', 'Init_Bwd_Win_Byts',\n",
       "       'Fwd_Act_Data_Pkts', 'Idle_Mean', 'Idle_Std', 'Idle_Max', 'Idle_Min',\n",
       "       'Label', 'Cat', 'Sub_Cat'],\n",
       "      dtype='object')"
      ]
     },
     "execution_count": 51,
     "metadata": {},
     "output_type": "execute_result"
    }
   ],
   "source": [
    "botdata.columns"
   ]
  },
  {
   "cell_type": "code",
   "execution_count": 69,
   "metadata": {},
   "outputs": [],
   "source": [
    "X = botdata[['Flow_Duration', 'Tot_Fwd_Pkts', 'Tot_Bwd_Pkts', 'TotLen_Fwd_Pkts',\n",
    "       'TotLen_Bwd_Pkts', 'Fwd_Pkt_Len_Max', 'Fwd_Pkt_Len_Min',\n",
    "       'Fwd_Pkt_Len_Mean', 'Fwd_Pkt_Len_Std', 'Bwd_Pkt_Len_Max',\n",
    "       'Bwd_Pkt_Len_Min', 'Bwd_Pkt_Len_Mean', 'Bwd_Pkt_Len_Std', 'Flow_Byts/s',\n",
    "       'Flow_Pkts/s', 'Flow_IAT_Mean', 'Flow_IAT_Std', 'Flow_IAT_Max',\n",
    "       'Flow_IAT_Min', 'Fwd_IAT_Tot', 'Fwd_IAT_Mean', 'Bwd_IAT_Mean',\n",
    "       'Fwd_IAT_Max', 'Fwd_IAT_Min', 'Bwd_IAT_Tot', 'Bwd_IAT_Mean.1',\n",
    "       'Bwd_IAT_Std', 'Bwd_IAT_Max', 'Bwd_IAT_Min', 'Bwd_PSH_Flags',\n",
    "       'Bwd_URG_Flags', 'Fwd_Header_Len', 'Bwd_Header_Len', 'Fwd_Pkts/s',\n",
    "       'Bwd_Pkts/s', 'Pkt_Len_Min', 'Pkt_Len_Max', 'Pkt_Len_Mean',\n",
    "       'Pkt_Len_Std', 'Pkt_Len_Var', 'SYN_Flag_Cnt', 'ACK_Flag_Cnt',\n",
    "       'Down/Up_Ratio', 'Pkt_Size_Avg', 'Fwd_Seg_Size_Avg', 'Bwd_Seg_Size_Avg',\n",
    "       'Subflow_Fwd_Pkts', 'Subflow_Fwd_Byts', 'Subflow_Bwd_Pkts',\n",
    "       'Subflow_Bwd_Byts', 'Init_Fwd_Win_Byts', 'Init_Bwd_Win_Byts',\n",
    "       'Fwd_Act_Data_Pkts', 'Idle_Mean', 'Idle_Std', 'Idle_Max', 'Idle_Min',\n",
    "       'Label']]\n",
    "y = botdata['Cat']"
   ]
  },
  {
   "cell_type": "code",
   "execution_count": 80,
   "metadata": {},
   "outputs": [
    {
     "name": "stderr",
     "output_type": "stream",
     "text": [
      "D:\\anaco\\envs\\ml\\lib\\site-packages\\sklearn\\feature_selection\\_univariate_selection.py:114: UserWarning: Features [50 57] are constant.\n",
      "  warnings.warn(\"Features %s are constant.\" % constant_features_idx,\n",
      "D:\\anaco\\envs\\ml\\lib\\site-packages\\sklearn\\feature_selection\\_univariate_selection.py:116: RuntimeWarning: divide by zero encountered in true_divide\n",
      "  f = msb / msw\n",
      "D:\\anaco\\envs\\ml\\lib\\site-packages\\sklearn\\feature_selection\\_univariate_selection.py:116: RuntimeWarning: invalid value encountered in true_divide\n",
      "  f = msb / msw\n"
     ]
    }
   ],
   "source": [
    "# Create an SelectKBest object to select features with two best ANOVA F-Values\n",
    "k=10\n",
    "fvalue_selector = SelectKBest(f_classif, k=k)\n",
    "\n",
    "# Apply the SelectKBest object to the features and target\n",
    "X_kbest = fvalue_selector.fit_transform(X, y)"
   ]
  },
  {
   "cell_type": "code",
   "execution_count": 86,
   "metadata": {},
   "outputs": [
    {
     "data": {
      "text/plain": [
       "[('Init_Fwd_Win_Byts', nan),\n",
       " ('Label', inf),\n",
       " ('ACK_Flag_Cnt', 179309.5628038216),\n",
       " ('Fwd_IAT_Mean', 59417.09942457262),\n",
       " ('Fwd_IAT_Max', 58058.33898884294),\n",
       " ('Flow_Duration', 55103.32681533593),\n",
       " ('SYN_Flag_Cnt', 43915.79771443476),\n",
       " ('Down/Up_Ratio', 37802.581308914654),\n",
       " ('Fwd_IAT_Tot', 36424.43959401927),\n",
       " ('Idle_Std', 36391.686685842484)]"
      ]
     },
     "execution_count": 86,
     "metadata": {},
     "output_type": "execute_result"
    }
   ],
   "source": [
    "#REMAINING FEATURES\n",
    "top_features = sorted(zip(X, fvalue_selector.scores_), key=lambda x: x[1], reverse=True)\n",
    "reduced_col = top_features[:k]\n",
    "reduced_col\n"
   ]
  },
  {
   "cell_type": "code",
   "execution_count": 84,
   "metadata": {},
   "outputs": [],
   "source": [
    "from sklearn.model_selection import train_test_split\n",
    "\n",
    "X_train, X_test, y_train, y_test = train_test_split(X_kbest, y, test_size=0.33, random_state=42)"
   ]
  },
  {
   "cell_type": "code",
   "execution_count": 61,
   "metadata": {},
   "outputs": [],
   "source": [
    "from sklearn.linear_model import LogisticRegression\n",
    "from sklearn.tree import DecisionTreeClassifier\n",
    "from sklearn.ensemble import RandomForestClassifier,BaggingClassifier,ExtraTreesClassifier"
   ]
  },
  {
   "cell_type": "code",
   "execution_count": 62,
   "metadata": {},
   "outputs": [
    {
     "name": "stderr",
     "output_type": "stream",
     "text": [
      "D:\\anaco\\envs\\ml\\lib\\site-packages\\sklearn\\linear_model\\_logistic.py:762: ConvergenceWarning: lbfgs failed to converge (status=1):\n",
      "STOP: TOTAL NO. of ITERATIONS REACHED LIMIT.\n",
      "\n",
      "Increase the number of iterations (max_iter) or scale the data as shown in:\n",
      "    https://scikit-learn.org/stable/modules/preprocessing.html\n",
      "Please also refer to the documentation for alternative solver options:\n",
      "    https://scikit-learn.org/stable/modules/linear_model.html#logistic-regression\n",
      "  n_iter_i = _check_optimize_result(\n"
     ]
    },
    {
     "data": {
      "text/plain": [
       "array([[37246, 37354,  1022,   369,     0],\n",
       "       [12970, 56084,  8103,   258,     0],\n",
       "       [  507,  1512,  9496,    13,     0],\n",
       "       [ 1527,   995, 62289,  1187,     0],\n",
       "       [   48,     4,    15,     1,     0]], dtype=int64)"
      ]
     },
     "execution_count": 62,
     "metadata": {},
     "output_type": "execute_result"
    }
   ],
   "source": [
    "from sklearn.metrics import accuracy_score, confusion_matrix\n",
    "logistic = LogisticRegression()\n",
    "logistic.fit(X_train, y_train);\n",
    "y_pred = logistic.predict(X_test)\n"
   ]
  },
  {
   "cell_type": "code",
   "execution_count": 63,
   "metadata": {},
   "outputs": [
    {
     "data": {
      "text/plain": [
       "0.45027272727272727"
      ]
     },
     "execution_count": 63,
     "metadata": {},
     "output_type": "execute_result"
    }
   ],
   "source": [
    "accuracy_score(y_test, y_pred)\n"
   ]
  },
  {
   "cell_type": "code",
   "execution_count": 64,
   "metadata": {},
   "outputs": [
    {
     "data": {
      "text/plain": [
       "array([[37246, 37354,  1022,   369,     0],\n",
       "       [12970, 56084,  8103,   258,     0],\n",
       "       [  507,  1512,  9496,    13,     0],\n",
       "       [ 1527,   995, 62289,  1187,     0],\n",
       "       [   48,     4,    15,     1,     0]], dtype=int64)"
      ]
     },
     "execution_count": 64,
     "metadata": {},
     "output_type": "execute_result"
    }
   ],
   "source": [
    "confusion_matrix(y_test, y_pred)"
   ]
  },
  {
   "cell_type": "code",
   "execution_count": 65,
   "metadata": {},
   "outputs": [
    {
     "data": {
      "text/plain": [
       "0.815034632034632"
      ]
     },
     "execution_count": 65,
     "metadata": {},
     "output_type": "execute_result"
    }
   ],
   "source": [
    "from sklearn import tree\n",
    "from sklearn.tree import DecisionTreeClassifier\n",
    "clf = DecisionTreeClassifier(max_depth=3, min_samples_split=3)\n",
    "clf.fit(X_train, y_train)\n",
    "y_pred = clf.predict(X_test)\n",
    "\n",
    "accuracy_score(y_test, y_pred)"
   ]
  },
  {
   "cell_type": "markdown",
   "metadata": {},
   "source": [
    "### EDA"
   ]
  },
  {
   "cell_type": "code",
   "execution_count": 85,
   "metadata": {},
   "outputs": [
    {
     "data": {
      "text/plain": [
       "[('Init_Fwd_Win_Byts', nan),\n",
       " ('Label', inf),\n",
       " ('ACK_Flag_Cnt', 179309.5628038216),\n",
       " ('Fwd_IAT_Mean', 59417.09942457262),\n",
       " ('Fwd_IAT_Max', 58058.33898884294),\n",
       " ('Flow_Duration', 55103.32681533593),\n",
       " ('SYN_Flag_Cnt', 43915.79771443476),\n",
       " ('Down/Up_Ratio', 37802.581308914654),\n",
       " ('Fwd_IAT_Tot', 36424.43959401927),\n",
       " ('Idle_Std', 36391.686685842484)]"
      ]
     },
     "execution_count": 85,
     "metadata": {},
     "output_type": "execute_result"
    }
   ],
   "source": [
    "reduced_col"
   ]
  },
  {
   "cell_type": "code",
   "execution_count": 109,
   "metadata": {},
   "outputs": [],
   "source": [
    "eda_col = ['Init_Fwd_Win_Byts','Label','ACK_Flag_Cnt','Fwd_IAT_Mean','Fwd_IAT_Max','Flow_Duration','SYN_Flag_Cnt','Down/Up_Ratio','Fwd_IAT_Tot','Idle_Std']"
   ]
  },
  {
   "cell_type": "code",
   "execution_count": 127,
   "metadata": {},
   "outputs": [],
   "source": [
    "eda_data = botdata[eda_col]"
   ]
  },
  {
   "cell_type": "code",
   "execution_count": 129,
   "metadata": {},
   "outputs": [
    {
     "name": "stdout",
     "output_type": "stream",
     "text": [
      "<class 'pandas.core.frame.DataFrame'>\n",
      "RangeIndex: 700000 entries, 0 to 699999\n",
      "Data columns (total 10 columns):\n",
      " #   Column             Non-Null Count   Dtype  \n",
      "---  ------             --------------   -----  \n",
      " 0   Init_Fwd_Win_Byts  700000 non-null  int64  \n",
      " 1   Label              700000 non-null  int64  \n",
      " 2   ACK_Flag_Cnt       700000 non-null  int64  \n",
      " 3   Fwd_IAT_Mean       700000 non-null  float64\n",
      " 4   Fwd_IAT_Max        700000 non-null  float64\n",
      " 5   Flow_Duration      700000 non-null  int64  \n",
      " 6   SYN_Flag_Cnt       700000 non-null  int64  \n",
      " 7   Down/Up_Ratio      700000 non-null  float64\n",
      " 8   Fwd_IAT_Tot        700000 non-null  float64\n",
      " 9   Idle_Std           700000 non-null  float64\n",
      "dtypes: float64(5), int64(5)\n",
      "memory usage: 53.4 MB\n"
     ]
    }
   ],
   "source": [
    "eda_data.info()"
   ]
  },
  {
   "cell_type": "code",
   "execution_count": null,
   "metadata": {},
   "outputs": [],
   "source": []
  }
 ],
 "metadata": {
  "kernelspec": {
   "display_name": "Python 3",
   "language": "python",
   "name": "python3"
  },
  "language_info": {
   "codemirror_mode": {
    "name": "ipython",
    "version": 3
   },
   "file_extension": ".py",
   "mimetype": "text/x-python",
   "name": "python",
   "nbconvert_exporter": "python",
   "pygments_lexer": "ipython3",
   "version": "3.8.5"
  }
 },
 "nbformat": 4,
 "nbformat_minor": 4
}
